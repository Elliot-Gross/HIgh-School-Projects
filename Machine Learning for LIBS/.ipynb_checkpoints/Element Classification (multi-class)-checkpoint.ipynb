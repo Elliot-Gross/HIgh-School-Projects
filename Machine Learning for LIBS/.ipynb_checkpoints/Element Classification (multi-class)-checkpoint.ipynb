{
 "cells": [
  {
   "cell_type": "markdown",
   "metadata": {},
   "source": [
    "### Extract year from one file"
   ]
  },
  {
   "cell_type": "code",
   "execution_count": 2,
   "metadata": {},
   "outputs": [
    {
     "name": "stdout",
     "output_type": "stream",
     "text": [
      "(0, 'Copper')\n",
      "(1, 'Copper')\n",
      "(1, 'Copper')\n",
      "(1, 'Zinc')\n",
      "(1, 'Copper')\n",
      "(0, 'Nickel')\n",
      "(1, 'Nickel')\n",
      "(0, 'Zinc')\n",
      "(1, 'Iron')\n"
     ]
    }
   ],
   "source": [
    "import re\n",
    "\n",
    "def get_element_info(filename):\n",
    "    filename = filename.lower()\n",
    "    #liquid->0, solid->1\n",
    "    if \"cu(no3)2\" in filename:\n",
    "        return 0, 'Copper'\n",
    "    if \"zn(no3)2\" in filename:\n",
    "        return 0, 'Zinc'\n",
    "    if \"ni(no3)2\" in filename:\n",
    "        return 0, 'Nickel'\n",
    "    if \"copper\" in filename:\n",
    "        return 1, 'Copper'\n",
    "    if \"unknownnail\" in filename:\n",
    "        return 1, 'Iron'\n",
    "    if \"nickelspatula\" in filename:\n",
    "        return 1, 'Nickel'\n",
    "    if \"zinc\" in filename:\n",
    "        return 1, 'Zinc'\n",
    "    else:\n",
    "        return NaN\n",
    "    \n",
    "\n",
    "filenames = [\"0.5MCu(NO3)2.Standard.Lamp.E10.CV._HRD10591_16-07-00-754.txt\",\n",
    "           \"copper_HRD10591_16-49-14-800.txt\",\n",
    "           \"copper.mounting.energy7_HRD10591_16-51-02-544.txt\",\n",
    "           \"FlinnAP5935BZINC.07152019.LAMPEdge.EN5.5scans.P1_HRD10591_14-59-59-580.txt\",\n",
    "           \"FlinnAP9092KCOPPER.07152019.LAMP.EN7.P1_HRD10591_14-44-41-613.txt\",\n",
    "           \"Ni(No3)2Standard.Agarose3_.GreenCap.LampEn10.200Scan.07232019.P1_HRD10591_13-18-38-664.txt\",\n",
    "            \"NickelSpatula_HRD10591_16-33-32-126.txt\",\n",
    "            \"Zn(NO3)2Standard.Agarose3_.GreenCap.LampEnergy5.5.E.O_HRD10591_15-02-32-768.txt\",\n",
    "            \"UnknownNail75mm.07152019.QswitchSynchronous.EN10.5scans.P1_HRD10591_15-21-15-324.txt\"]\n",
    "\n",
    "for file in filenames:\n",
    "    print(get_element_info(file))"
   ]
  },
  {
   "cell_type": "markdown",
   "metadata": {},
   "source": [
    "### Extract data from one file"
   ]
  },
  {
   "cell_type": "code",
   "execution_count": 3,
   "metadata": {},
   "outputs": [],
   "source": [
    "import pandas as pd\n",
    "\n",
    "def get_data(filename):\n",
    "    df = pd.read_csv(filename, skiprows=13, sep='\\t', names=['freq', 'intensity'])\n",
    "    df = df.set_index('freq')\n",
    "    return df\n",
    "\n",
    "#for file in filenames:\n",
    "    #print(get_data(\"All Data/\" + file).head())"
   ]
  },
  {
   "cell_type": "markdown",
   "metadata": {},
   "source": [
    "### Process all files"
   ]
  },
  {
   "cell_type": "code",
   "execution_count": 4,
   "metadata": {},
   "outputs": [],
   "source": [
    "from pathlib import Path\n",
    "\n",
    "intensities = []\n",
    "states_of_matter = []\n",
    "elements = []\n",
    "\n",
    "for filename in Path('All Data').glob('**/*.txt'):\n",
    "    element_info = get_element_info(filename.name)\n",
    "    states_of_matter.append(element_info[0])\n",
    "    elements.append(element_info[1])\n",
    "    df = get_data(filename)\n",
    "    intensities.append(df['intensity'])"
   ]
  },
  {
   "cell_type": "code",
   "execution_count": 5,
   "metadata": {},
   "outputs": [
    {
     "data": {
      "text/plain": [
       "((1714, 2048), 1714, 1714)"
      ]
     },
     "execution_count": 5,
     "metadata": {},
     "output_type": "execute_result"
    }
   ],
   "source": [
    "df = pd.concat(intensities, axis=1).transpose()\n",
    "#df[\"State of Matter\"] = states_of_matter\n",
    "df.shape, len(elements), len(states_of_matter)"
   ]
  },
  {
   "cell_type": "markdown",
   "metadata": {},
   "source": [
    "### Train and test models "
   ]
  },
  {
   "cell_type": "code",
   "execution_count": 6,
   "metadata": {},
   "outputs": [
    {
     "name": "stdout",
     "output_type": "stream",
     "text": [
      "KNeighborsClassifier 0.8352911263666413\n",
      "DecisionTreeClassifier 0.8557843885075007\n",
      "RandomForestClassifier 0.9708619374523265\n",
      "MLPClassifier 0.883447749809306\n",
      "AdaBoostClassifier 0.781121281464531\n",
      "GaussianNB 0.26526824307144675\n",
      "SVC 0.8426264937706586\n",
      "GradientBoostingClassifier 0.9709127892194255\n"
     ]
    }
   ],
   "source": [
    "import numpy as np\n",
    "from sklearn.model_selection import train_test_split, cross_val_score\n",
    "from sklearn.preprocessing import StandardScaler\n",
    "from sklearn.neural_network import MLPClassifier\n",
    "from sklearn.neighbors import KNeighborsClassifier\n",
    "from sklearn.svm import SVC\n",
    "from sklearn.tree import DecisionTreeClassifier\n",
    "from sklearn.ensemble import RandomForestClassifier, AdaBoostClassifier, GradientBoostingClassifier\n",
    "from sklearn.naive_bayes import GaussianNB\n",
    "\n",
    "classifiers = [\n",
    "    KNeighborsClassifier(3),\n",
    "    #SVC(gamma=2, C=1),\n",
    "    DecisionTreeClassifier(max_depth=5),\n",
    "    RandomForestClassifier(n_estimators=100),\n",
    "    MLPClassifier(alpha=1, max_iter=1000),\n",
    "    AdaBoostClassifier(),\n",
    "    GaussianNB(),\n",
    "    SVC(kernel=\"linear\", C=0.025),\n",
    "    GradientBoostingClassifier()\n",
    "]\n",
    "\n",
    "X = df.values\n",
    "scaler = StandardScaler()\n",
    "X = scaler.fit_transform(X)\n",
    "y = elements\n",
    "X_train, X_test, y_train, y_test = train_test_split(X, y, test_size=.4, random_state=42)\n",
    "for clf in classifiers:\n",
    "    clf.fit(X_train, y_train)\n",
    "    score = np.mean(cross_val_score(clf, X_test, y_test))\n",
    "    name = clf.__class__.__name__\n",
    "    print(name, score)"
   ]
  },
  {
   "cell_type": "markdown",
   "metadata": {},
   "source": [
    "### Multi-Label Classifier"
   ]
  },
  {
   "cell_type": "markdown",
   "metadata": {},
   "source": [
    "#### Creating 4 seperate label lists in order to train 4 binary classifiers"
   ]
  },
  {
   "cell_type": "code",
   "execution_count": 14,
   "metadata": {},
   "outputs": [
    {
     "name": "stdout",
     "output_type": "stream",
     "text": [
      "['Nickel', 'Zinc', 'Nickel', 'Zinc', 'Copper', 'Nickel', 'Zinc', 'Nickel', 'Copper', 'Nickel', 'Zinc', 'Copper', 'Nickel', 'Zinc', 'Nickel', 'Nickel', 'Nickel', 'Zinc', 'Nickel', 'Nickel', 'Nickel', 'Nickel', 'Copper', 'Zinc', 'Nickel', 'Zinc', 'Zinc', 'Nickel', 'Nickel', 'Nickel', 'Nickel', 'Copper', 'Zinc', 'Copper', 'Zinc', 'Nickel', 'Nickel', 'Nickel', 'Nickel', 'Nickel', 'Nickel', 'Nickel', 'Nickel', 'Nickel', 'Nickel', 'Nickel', 'Nickel', 'Nickel', 'Zinc', 'Nickel', 'Zinc', 'Copper', 'Nickel', 'Zinc', 'Nickel', 'Nickel', 'Nickel', 'Zinc', 'Nickel', 'Zinc', 'Nickel', 'Copper', 'Nickel', 'Nickel', 'Copper', 'Nickel', 'Nickel', 'Nickel', 'Nickel', 'Nickel', 'Zinc', 'Nickel', 'Nickel', 'Nickel', 'Nickel', 'Zinc', 'Zinc', 'Copper', 'Nickel', 'Zinc', 'Copper', 'Copper', 'Nickel', 'Nickel', 'Nickel', 'Nickel', 'Zinc', 'Nickel', 'Copper', 'Zinc', 'Zinc', 'Copper', 'Zinc', 'Nickel', 'Zinc', 'Copper', 'Nickel', 'Zinc', 'Nickel', 'Nickel', 'Nickel', 'Zinc', 'Nickel', 'Nickel', 'Copper', 'Nickel', 'Nickel', 'Nickel', 'Zinc', 'Nickel', 'Nickel', 'Nickel', 'Copper', 'Nickel', 'Nickel', 'Nickel', 'Copper', 'Nickel', 'Nickel', 'Nickel', 'Nickel', 'Nickel', 'Nickel', 'Copper', 'Zinc', 'Copper', 'Nickel', 'Nickel', 'Nickel', 'Nickel', 'Nickel', 'Zinc', 'Iron', 'Iron', 'Zinc', 'Copper', 'Copper', 'Nickel', 'Nickel', 'Copper', 'Nickel', 'Nickel', 'Zinc', 'Copper', 'Nickel', 'Nickel', 'Zinc', 'Copper', 'Nickel', 'Zinc', 'Nickel', 'Nickel', 'Copper', 'Nickel', 'Nickel', 'Nickel', 'Nickel', 'Nickel', 'Nickel', 'Nickel', 'Zinc', 'Copper', 'Copper', 'Nickel', 'Nickel', 'Nickel', 'Nickel', 'Nickel', 'Nickel', 'Nickel', 'Nickel', 'Nickel', 'Nickel', 'Zinc', 'Nickel', 'Zinc', 'Nickel', 'Nickel', 'Zinc', 'Nickel', 'Nickel', 'Zinc', 'Nickel', 'Nickel', 'Nickel', 'Nickel', 'Nickel', 'Nickel', 'Zinc', 'Nickel', 'Zinc', 'Zinc', 'Zinc', 'Zinc', 'Zinc', 'Nickel', 'Nickel', 'Nickel', 'Nickel', 'Nickel', 'Zinc', 'Nickel', 'Copper', 'Nickel', 'Zinc', 'Nickel', 'Nickel', 'Nickel', 'Nickel', 'Zinc', 'Nickel', 'Nickel', 'Nickel', 'Zinc', 'Nickel', 'Nickel', 'Nickel', 'Nickel', 'Nickel', 'Copper', 'Copper', 'Nickel', 'Copper', 'Iron', 'Zinc', 'Copper', 'Nickel', 'Copper', 'Zinc', 'Nickel', 'Nickel', 'Nickel', 'Nickel', 'Nickel', 'Nickel', 'Nickel', 'Nickel', 'Nickel', 'Nickel', 'Nickel', 'Nickel', 'Nickel', 'Copper', 'Nickel', 'Nickel', 'Copper', 'Zinc', 'Copper', 'Zinc', 'Zinc', 'Nickel', 'Copper', 'Zinc', 'Nickel', 'Nickel', 'Nickel', 'Nickel', 'Copper', 'Nickel', 'Nickel', 'Nickel', 'Nickel', 'Copper', 'Nickel', 'Nickel', 'Nickel', 'Iron', 'Zinc', 'Nickel', 'Nickel', 'Zinc', 'Zinc', 'Nickel', 'Nickel', 'Nickel', 'Zinc', 'Zinc', 'Nickel', 'Nickel', 'Zinc', 'Zinc', 'Nickel', 'Nickel', 'Copper', 'Nickel', 'Copper', 'Nickel', 'Nickel', 'Nickel', 'Nickel', 'Nickel', 'Zinc', 'Copper', 'Nickel', 'Nickel', 'Copper', 'Zinc', 'Nickel', 'Nickel', 'Zinc', 'Nickel', 'Zinc', 'Copper', 'Nickel', 'Zinc', 'Zinc', 'Nickel', 'Zinc', 'Nickel', 'Copper', 'Nickel', 'Nickel', 'Copper', 'Nickel', 'Nickel', 'Nickel', 'Nickel', 'Zinc', 'Copper', 'Nickel', 'Copper', 'Nickel', 'Zinc', 'Nickel', 'Zinc', 'Zinc', 'Nickel', 'Zinc', 'Nickel', 'Nickel', 'Copper', 'Zinc', 'Nickel', 'Nickel', 'Nickel', 'Zinc', 'Copper', 'Zinc', 'Nickel', 'Nickel', 'Nickel', 'Nickel', 'Zinc', 'Nickel', 'Zinc', 'Nickel', 'Copper', 'Nickel', 'Copper', 'Nickel', 'Nickel', 'Nickel', 'Nickel', 'Nickel', 'Zinc', 'Nickel', 'Nickel', 'Nickel', 'Nickel', 'Nickel', 'Zinc', 'Zinc', 'Copper', 'Nickel', 'Nickel', 'Zinc', 'Copper', 'Zinc', 'Copper', 'Zinc', 'Nickel', 'Nickel', 'Copper', 'Zinc', 'Copper', 'Nickel', 'Nickel', 'Zinc', 'Nickel', 'Nickel', 'Zinc', 'Nickel', 'Nickel', 'Zinc', 'Nickel', 'Zinc', 'Nickel', 'Nickel', 'Zinc', 'Zinc', 'Nickel', 'Nickel', 'Iron', 'Copper', 'Copper', 'Copper', 'Zinc', 'Copper', 'Zinc', 'Nickel', 'Nickel', 'Nickel', 'Copper', 'Nickel', 'Zinc', 'Copper', 'Nickel', 'Nickel', 'Copper', 'Zinc', 'Nickel', 'Nickel', 'Nickel', 'Zinc', 'Nickel', 'Copper', 'Zinc', 'Zinc', 'Zinc', 'Copper', 'Nickel', 'Zinc', 'Nickel', 'Nickel', 'Nickel', 'Nickel', 'Copper', 'Nickel', 'Nickel', 'Nickel', 'Nickel', 'Nickel', 'Nickel', 'Nickel', 'Zinc', 'Nickel', 'Zinc', 'Nickel', 'Nickel', 'Nickel', 'Zinc', 'Copper', 'Nickel', 'Nickel', 'Nickel', 'Zinc', 'Copper', 'Nickel', 'Copper', 'Zinc', 'Copper', 'Nickel', 'Nickel', 'Nickel', 'Nickel', 'Nickel', 'Nickel', 'Nickel', 'Copper', 'Copper', 'Copper', 'Nickel', 'Nickel', 'Nickel', 'Nickel', 'Copper', 'Nickel', 'Nickel', 'Nickel', 'Nickel', 'Zinc', 'Copper', 'Nickel', 'Nickel', 'Copper', 'Nickel', 'Nickel', 'Nickel', 'Nickel', 'Nickel', 'Nickel', 'Zinc', 'Zinc', 'Zinc', 'Nickel', 'Zinc', 'Nickel', 'Zinc', 'Zinc', 'Zinc', 'Nickel', 'Nickel', 'Nickel', 'Copper', 'Copper', 'Copper', 'Nickel', 'Nickel', 'Zinc', 'Nickel', 'Nickel', 'Nickel', 'Nickel', 'Nickel', 'Copper', 'Nickel', 'Zinc', 'Zinc', 'Zinc', 'Nickel', 'Nickel', 'Nickel', 'Zinc', 'Nickel', 'Zinc', 'Nickel', 'Nickel', 'Nickel', 'Copper', 'Nickel', 'Zinc', 'Copper', 'Nickel', 'Nickel', 'Nickel', 'Nickel', 'Nickel', 'Nickel', 'Nickel', 'Nickel', 'Nickel', 'Nickel', 'Nickel', 'Zinc', 'Nickel', 'Copper', 'Zinc', 'Nickel', 'Nickel', 'Nickel', 'Nickel', 'Copper', 'Nickel', 'Nickel', 'Nickel', 'Copper', 'Iron', 'Zinc', 'Nickel', 'Zinc', 'Copper', 'Nickel', 'Zinc', 'Nickel', 'Nickel', 'Nickel', 'Zinc', 'Nickel', 'Zinc', 'Nickel', 'Zinc', 'Nickel', 'Copper', 'Nickel', 'Nickel', 'Copper', 'Nickel', 'Zinc', 'Zinc', 'Nickel', 'Nickel', 'Nickel', 'Copper', 'Zinc', 'Nickel', 'Zinc', 'Nickel', 'Nickel', 'Nickel', 'Nickel', 'Zinc', 'Zinc', 'Iron', 'Zinc', 'Nickel', 'Nickel', 'Nickel', 'Nickel', 'Nickel', 'Nickel', 'Zinc', 'Nickel', 'Copper', 'Nickel', 'Zinc', 'Zinc', 'Copper', 'Zinc', 'Nickel', 'Nickel', 'Copper', 'Zinc', 'Zinc', 'Nickel', 'Copper', 'Copper', 'Nickel', 'Nickel', 'Copper', 'Copper', 'Nickel', 'Copper', 'Zinc', 'Nickel', 'Zinc', 'Zinc', 'Nickel', 'Nickel', 'Nickel', 'Nickel', 'Nickel', 'Nickel', 'Zinc', 'Nickel', 'Nickel', 'Nickel', 'Nickel', 'Copper', 'Nickel', 'Zinc', 'Nickel', 'Copper', 'Zinc', 'Nickel', 'Nickel', 'Nickel', 'Copper', 'Nickel', 'Zinc', 'Nickel', 'Copper', 'Nickel', 'Zinc', 'Zinc', 'Nickel', 'Copper', 'Zinc', 'Nickel', 'Nickel', 'Zinc', 'Nickel', 'Zinc', 'Zinc', 'Zinc', 'Nickel', 'Nickel', 'Nickel', 'Nickel', 'Zinc', 'Nickel', 'Nickel', 'Zinc', 'Zinc', 'Nickel', 'Zinc', 'Nickel', 'Copper', 'Nickel', 'Nickel', 'Nickel', 'Nickel', 'Zinc', 'Copper', 'Zinc', 'Nickel', 'Nickel', 'Nickel', 'Nickel', 'Nickel', 'Nickel', 'Nickel', 'Zinc', 'Zinc', 'Zinc', 'Zinc', 'Nickel', 'Iron', 'Nickel', 'Nickel', 'Nickel', 'Zinc', 'Nickel', 'Nickel', 'Zinc', 'Nickel', 'Copper', 'Copper', 'Nickel', 'Zinc', 'Nickel', 'Nickel', 'Nickel', 'Nickel', 'Nickel', 'Nickel', 'Nickel', 'Zinc', 'Nickel', 'Copper', 'Zinc', 'Nickel', 'Nickel', 'Zinc', 'Zinc', 'Iron', 'Zinc', 'Zinc', 'Nickel', 'Nickel', 'Nickel', 'Nickel', 'Nickel', 'Nickel', 'Nickel', 'Nickel', 'Nickel', 'Nickel', 'Copper', 'Nickel', 'Nickel', 'Zinc', 'Nickel', 'Zinc', 'Copper', 'Copper', 'Zinc', 'Nickel', 'Copper', 'Zinc', 'Nickel', 'Nickel', 'Copper', 'Copper', 'Nickel', 'Nickel', 'Nickel', 'Nickel', 'Nickel', 'Zinc', 'Nickel', 'Nickel', 'Zinc', 'Zinc', 'Nickel', 'Zinc', 'Nickel', 'Nickel', 'Zinc', 'Zinc', 'Nickel', 'Nickel', 'Nickel', 'Copper', 'Copper', 'Nickel', 'Nickel', 'Nickel', 'Nickel', 'Nickel', 'Nickel', 'Nickel', 'Nickel', 'Nickel', 'Copper', 'Copper', 'Copper', 'Copper', 'Nickel', 'Nickel', 'Nickel', 'Nickel', 'Nickel', 'Copper', 'Nickel', 'Nickel', 'Copper', 'Copper', 'Nickel', 'Copper', 'Zinc', 'Nickel', 'Nickel', 'Zinc', 'Zinc', 'Nickel', 'Nickel', 'Zinc', 'Nickel', 'Nickel', 'Zinc', 'Nickel', 'Nickel', 'Nickel', 'Zinc', 'Zinc', 'Nickel', 'Zinc', 'Zinc', 'Zinc', 'Nickel', 'Nickel', 'Nickel', 'Nickel', 'Copper', 'Zinc', 'Nickel', 'Nickel', 'Nickel', 'Zinc', 'Nickel', 'Copper', 'Nickel', 'Nickel', 'Nickel', 'Nickel', 'Nickel', 'Nickel', 'Nickel', 'Nickel', 'Nickel', 'Zinc', 'Nickel', 'Zinc', 'Nickel', 'Zinc', 'Nickel', 'Zinc', 'Copper', 'Nickel', 'Zinc', 'Zinc', 'Nickel', 'Zinc', 'Nickel', 'Nickel', 'Zinc', 'Nickel', 'Zinc', 'Iron', 'Nickel', 'Nickel', 'Nickel', 'Zinc', 'Nickel', 'Nickel', 'Copper', 'Zinc', 'Nickel', 'Nickel', 'Copper', 'Nickel', 'Nickel', 'Copper', 'Nickel', 'Zinc', 'Nickel', 'Nickel', 'Zinc', 'Copper', 'Nickel', 'Nickel', 'Nickel', 'Nickel', 'Copper', 'Nickel', 'Nickel', 'Nickel', 'Zinc', 'Copper', 'Zinc', 'Nickel', 'Nickel', 'Copper', 'Nickel', 'Nickel', 'Copper', 'Nickel', 'Zinc', 'Nickel', 'Nickel', 'Nickel', 'Zinc', 'Nickel', 'Nickel', 'Copper', 'Zinc', 'Nickel', 'Zinc', 'Zinc', 'Nickel', 'Copper', 'Copper', 'Nickel', 'Zinc', 'Zinc', 'Nickel', 'Nickel', 'Nickel', 'Zinc', 'Copper', 'Nickel', 'Nickel', 'Nickel', 'Nickel', 'Nickel', 'Nickel', 'Nickel', 'Nickel', 'Nickel', 'Copper', 'Copper', 'Nickel', 'Nickel', 'Copper', 'Zinc', 'Zinc', 'Nickel', 'Nickel', 'Nickel', 'Zinc', 'Copper', 'Copper', 'Nickel', 'Nickel', 'Nickel', 'Nickel', 'Zinc', 'Nickel', 'Copper', 'Nickel', 'Zinc', 'Nickel', 'Zinc', 'Nickel', 'Copper', 'Nickel', 'Copper', 'Copper', 'Zinc', 'Nickel', 'Nickel', 'Zinc', 'Zinc', 'Nickel', 'Zinc', 'Nickel', 'Nickel', 'Nickel', 'Copper', 'Nickel', 'Zinc', 'Zinc', 'Nickel', 'Nickel', 'Nickel', 'Nickel', 'Nickel', 'Nickel', 'Zinc', 'Nickel', 'Iron', 'Zinc', 'Nickel', 'Zinc', 'Zinc', 'Nickel', 'Nickel', 'Nickel', 'Nickel', 'Nickel', 'Nickel', 'Nickel', 'Nickel', 'Nickel', 'Copper', 'Nickel', 'Zinc', 'Nickel', 'Nickel', 'Nickel', 'Zinc', 'Nickel', 'Nickel', 'Zinc', 'Nickel', 'Zinc', 'Nickel', 'Copper', 'Nickel', 'Nickel', 'Nickel', 'Nickel', 'Copper', 'Nickel', 'Nickel', 'Zinc', 'Copper', 'Copper', 'Nickel', 'Copper', 'Zinc', 'Copper', 'Nickel', 'Nickel', 'Zinc', 'Nickel', 'Copper', 'Nickel', 'Nickel', 'Nickel', 'Zinc', 'Nickel', 'Nickel', 'Nickel', 'Nickel', 'Nickel', 'Nickel', 'Nickel', 'Zinc', 'Zinc', 'Nickel', 'Nickel', 'Nickel', 'Nickel', 'Zinc', 'Nickel', 'Zinc', 'Zinc', 'Nickel', 'Nickel', 'Nickel', 'Nickel', 'Copper', 'Nickel', 'Zinc', 'Nickel', 'Nickel', 'Copper', 'Nickel', 'Nickel', 'Nickel', 'Nickel', 'Zinc', 'Nickel', 'Nickel', 'Zinc', 'Nickel', 'Nickel', 'Copper', 'Zinc', 'Zinc', 'Iron', 'Nickel', 'Nickel', 'Iron', 'Nickel', 'Nickel', 'Zinc', 'Nickel', 'Zinc', 'Zinc', 'Zinc', 'Zinc', 'Nickel', 'Nickel', 'Nickel', 'Nickel', 'Zinc', 'Zinc', 'Nickel', 'Zinc', 'Nickel', 'Nickel', 'Zinc', 'Nickel', 'Zinc', 'Copper', 'Nickel', 'Zinc', 'Nickel', 'Nickel', 'Nickel', 'Copper', 'Copper', 'Zinc', 'Copper', 'Zinc', 'Nickel', 'Nickel', 'Nickel', 'Nickel', 'Nickel', 'Nickel', 'Zinc', 'Nickel', 'Nickel', 'Zinc', 'Nickel', 'Nickel', 'Nickel', 'Nickel', 'Nickel', 'Nickel', 'Nickel', 'Nickel', 'Nickel', 'Nickel', 'Zinc', 'Nickel', 'Zinc', 'Nickel', 'Nickel', 'Nickel', 'Zinc', 'Nickel', 'Zinc', 'Nickel', 'Zinc', 'Nickel', 'Zinc', 'Nickel', 'Zinc', 'Nickel', 'Copper', 'Copper', 'Nickel', 'Nickel', 'Nickel', 'Nickel', 'Nickel', 'Nickel', 'Zinc', 'Nickel', 'Nickel', 'Zinc', 'Nickel', 'Zinc', 'Nickel', 'Zinc', 'Zinc', 'Zinc', 'Nickel', 'Zinc', 'Nickel', 'Nickel', 'Nickel', 'Nickel', 'Copper', 'Nickel', 'Zinc', 'Copper', 'Zinc', 'Zinc', 'Zinc', 'Nickel', 'Nickel', 'Nickel', 'Zinc', 'Nickel', 'Zinc', 'Nickel', 'Zinc', 'Zinc', 'Nickel', 'Copper', 'Zinc', 'Nickel', 'Nickel', 'Nickel', 'Nickel', 'Copper', 'Copper', 'Nickel', 'Zinc', 'Zinc', 'Zinc', 'Zinc', 'Zinc', 'Zinc', 'Nickel', 'Iron', 'Zinc', 'Nickel', 'Nickel', 'Nickel', 'Nickel', 'Zinc', 'Zinc', 'Nickel', 'Zinc', 'Zinc', 'Copper', 'Iron', 'Copper', 'Nickel', 'Nickel', 'Nickel', 'Zinc', 'Nickel', 'Copper', 'Zinc', 'Zinc', 'Nickel', 'Nickel', 'Nickel', 'Nickel', 'Copper', 'Copper', 'Nickel', 'Copper', 'Copper', 'Nickel', 'Nickel', 'Nickel', 'Nickel', 'Nickel', 'Nickel', 'Nickel', 'Nickel', 'Zinc', 'Nickel', 'Nickel', 'Nickel', 'Copper', 'Copper', 'Copper', 'Nickel', 'Nickel', 'Copper', 'Nickel', 'Nickel', 'Nickel', 'Nickel', 'Nickel', 'Nickel', 'Nickel', 'Nickel', 'Zinc', 'Nickel', 'Zinc', 'Zinc', 'Nickel', 'Zinc', 'Zinc', 'Nickel', 'Zinc', 'Nickel', 'Nickel', 'Copper', 'Copper', 'Nickel', 'Copper', 'Nickel', 'Nickel', 'Zinc', 'Nickel', 'Nickel', 'Nickel', 'Nickel', 'Nickel', 'Nickel', 'Nickel', 'Nickel', 'Copper', 'Copper', 'Zinc', 'Copper', 'Nickel', 'Copper', 'Copper', 'Nickel', 'Nickel', 'Copper', 'Zinc', 'Nickel', 'Nickel', 'Zinc', 'Nickel', 'Nickel', 'Nickel', 'Zinc', 'Nickel', 'Nickel', 'Nickel', 'Nickel', 'Nickel', 'Zinc', 'Nickel', 'Copper', 'Nickel', 'Nickel', 'Copper', 'Nickel', 'Nickel', 'Zinc', 'Nickel', 'Zinc', 'Nickel', 'Nickel', 'Nickel', 'Nickel', 'Nickel', 'Nickel', 'Iron', 'Nickel', 'Nickel', 'Nickel', 'Zinc', 'Zinc', 'Zinc', 'Nickel', 'Nickel', 'Nickel', 'Zinc', 'Nickel', 'Copper', 'Zinc', 'Zinc', 'Zinc', 'Zinc', 'Zinc', 'Copper', 'Nickel', 'Nickel', 'Zinc', 'Zinc', 'Nickel', 'Nickel', 'Nickel', 'Nickel', 'Nickel', 'Nickel', 'Nickel', 'Zinc', 'Nickel', 'Nickel', 'Zinc', 'Nickel', 'Nickel', 'Nickel', 'Zinc', 'Nickel', 'Nickel', 'Zinc', 'Nickel', 'Copper', 'Nickel', 'Copper', 'Nickel', 'Nickel', 'Nickel', 'Zinc', 'Zinc', 'Nickel', 'Zinc', 'Zinc', 'Zinc', 'Nickel', 'Zinc', 'Nickel', 'Zinc', 'Nickel', 'Zinc', 'Zinc', 'Nickel', 'Nickel', 'Nickel', 'Zinc', 'Nickel', 'Copper', 'Zinc', 'Zinc', 'Nickel', 'Iron', 'Nickel', 'Zinc', 'Nickel', 'Zinc', 'Copper', 'Zinc', 'Nickel', 'Nickel', 'Nickel', 'Nickel', 'Copper', 'Copper', 'Nickel', 'Zinc', 'Nickel', 'Nickel', 'Nickel', 'Nickel', 'Zinc', 'Zinc', 'Nickel', 'Zinc', 'Nickel', 'Zinc', 'Copper', 'Nickel', 'Nickel', 'Nickel', 'Nickel', 'Nickel', 'Nickel', 'Zinc', 'Nickel', 'Nickel', 'Zinc', 'Nickel', 'Copper', 'Nickel', 'Nickel', 'Nickel', 'Nickel', 'Nickel', 'Copper', 'Nickel', 'Nickel', 'Nickel', 'Nickel', 'Copper', 'Zinc', 'Nickel', 'Zinc', 'Zinc', 'Nickel', 'Copper', 'Copper', 'Nickel', 'Nickel', 'Iron', 'Nickel', 'Copper', 'Zinc', 'Nickel', 'Nickel', 'Nickel', 'Nickel', 'Nickel', 'Copper', 'Nickel', 'Nickel', 'Nickel', 'Nickel', 'Zinc', 'Nickel', 'Zinc', 'Zinc', 'Nickel', 'Nickel', 'Zinc', 'Nickel', 'Zinc', 'Nickel', 'Nickel', 'Nickel', 'Nickel', 'Nickel', 'Nickel', 'Nickel', 'Copper', 'Nickel', 'Nickel', 'Nickel', 'Nickel', 'Nickel', 'Zinc', 'Nickel', 'Zinc', 'Nickel', 'Copper', 'Copper', 'Nickel', 'Nickel', 'Copper', 'Copper', 'Nickel', 'Nickel', 'Nickel', 'Copper', 'Nickel', 'Nickel', 'Nickel', 'Nickel', 'Zinc', 'Zinc', 'Zinc', 'Copper', 'Nickel', 'Nickel', 'Copper', 'Nickel', 'Nickel', 'Nickel', 'Nickel', 'Nickel', 'Zinc', 'Zinc', 'Zinc', 'Nickel', 'Copper', 'Zinc', 'Zinc', 'Zinc', 'Copper', 'Copper', 'Nickel', 'Nickel', 'Nickel', 'Zinc', 'Nickel', 'Copper', 'Nickel', 'Nickel', 'Nickel', 'Nickel', 'Zinc', 'Nickel', 'Zinc', 'Copper', 'Copper', 'Zinc', 'Nickel', 'Nickel', 'Zinc', 'Nickel', 'Zinc', 'Copper', 'Nickel', 'Nickel', 'Copper', 'Nickel', 'Nickel', 'Zinc', 'Nickel', 'Copper', 'Zinc', 'Nickel', 'Nickel', 'Nickel', 'Nickel', 'Nickel', 'Nickel', 'Nickel', 'Copper', 'Nickel', 'Zinc', 'Copper', 'Zinc', 'Copper', 'Zinc', 'Nickel', 'Zinc', 'Nickel', 'Iron', 'Copper', 'Copper', 'Nickel', 'Copper', 'Nickel', 'Nickel', 'Nickel', 'Copper', 'Nickel', 'Nickel', 'Nickel', 'Zinc', 'Nickel', 'Zinc', 'Nickel', 'Nickel', 'Nickel', 'Nickel', 'Nickel', 'Nickel', 'Nickel', 'Copper', 'Iron', 'Nickel', 'Nickel', 'Nickel', 'Nickel', 'Nickel', 'Zinc', 'Nickel', 'Nickel', 'Zinc', 'Zinc', 'Nickel', 'Nickel', 'Nickel', 'Nickel', 'Nickel', 'Zinc', 'Nickel', 'Copper', 'Zinc', 'Nickel', 'Nickel', 'Nickel', 'Zinc', 'Nickel', 'Nickel', 'Zinc', 'Nickel', 'Nickel', 'Copper', 'Zinc', 'Copper', 'Nickel', 'Copper', 'Nickel', 'Zinc', 'Zinc', 'Zinc', 'Nickel', 'Nickel', 'Nickel', 'Zinc', 'Nickel', 'Nickel', 'Nickel', 'Zinc', 'Nickel', 'Zinc', 'Copper', 'Nickel', 'Zinc', 'Copper', 'Nickel', 'Copper', 'Zinc', 'Zinc', 'Nickel', 'Zinc', 'Copper', 'Zinc', 'Zinc', 'Nickel', 'Nickel', 'Nickel', 'Iron', 'Nickel', 'Nickel', 'Nickel', 'Copper', 'Nickel', 'Copper', 'Nickel', 'Nickel', 'Zinc', 'Nickel', 'Zinc', 'Copper', 'Nickel', 'Zinc', 'Nickel', 'Zinc', 'Nickel', 'Zinc', 'Zinc', 'Nickel', 'Zinc', 'Nickel', 'Nickel', 'Zinc', 'Zinc', 'Zinc', 'Copper', 'Nickel', 'Nickel', 'Nickel', 'Nickel', 'Nickel', 'Nickel', 'Nickel', 'Nickel', 'Nickel', 'Zinc', 'Nickel', 'Nickel', 'Nickel', 'Copper', 'Nickel', 'Zinc', 'Nickel', 'Zinc', 'Zinc', 'Copper', 'Copper', 'Copper', 'Nickel', 'Nickel', 'Zinc', 'Nickel', 'Zinc', 'Nickel', 'Nickel', 'Nickel', 'Nickel', 'Nickel', 'Nickel', 'Zinc']\n"
     ]
    }
   ],
   "source": [
    "print(elements)"
   ]
  },
  {
   "cell_type": "code",
   "execution_count": 32,
   "metadata": {},
   "outputs": [
    {
     "data": {
      "text/plain": [
       "(1714, 1714, 1714, 1714, 1714)"
      ]
     },
     "execution_count": 32,
     "metadata": {},
     "output_type": "execute_result"
    }
   ],
   "source": [
    "copper_elements = []\n",
    "iron_elements = []\n",
    "zinc_elements = []\n",
    "nickel_elements = []\n",
    "\n",
    "for element in elements:\n",
    "    element = element.lower()\n",
    "    if element == \"copper\":\n",
    "        copper_elements.append(1)\n",
    "        iron_elements.append(0)\n",
    "        zinc_elements.append(0)\n",
    "        nickel_elements.append(0)\n",
    "    if element == \"iron\":\n",
    "        iron_elements.append(1)\n",
    "        copper_elements.append(0)\n",
    "        zinc_elements.append(0)\n",
    "        nickel_elements.append(0)\n",
    "    if element == \"zinc\":\n",
    "        zinc_elements.append(1)\n",
    "        copper_elements.append(0)\n",
    "        iron_elements.append(0)\n",
    "        nickel_elements.append(0)\n",
    "    if element == \"nickel\":\n",
    "        nickel_elements.append(1)\n",
    "        zinc_elements.append(0)\n",
    "        copper_elements.append(0)\n",
    "        iron_elements.append(0)\n",
    "\n",
    "len(elements), len(copper_elements), len(iron_elements), len(zinc_elements), len(nickel_elements)"
   ]
  },
  {
   "cell_type": "code",
   "execution_count": null,
   "metadata": {},
   "outputs": [],
   "source": [
    "#create one binary classifier for each element using the sets just created\n",
    "#change the y values"
   ]
  },
  {
   "cell_type": "code",
   "execution_count": null,
   "metadata": {},
   "outputs": [],
   "source": [
    "classifiers = [\n",
    "    KNeighborsClassifier(3),\n",
    "    #SVC(gamma=2, C=1),\n",
    "    DecisionTreeClassifier(max_depth=5),\n",
    "    RandomForestClassifier(n_estimators=100),\n",
    "    MLPClassifier(alpha=1, max_iter=1000),\n",
    "    AdaBoostClassifier(),\n",
    "    GaussianNB(),\n",
    "    SVC(kernel=\"linear\", C=0.025),\n",
    "    GradientBoostingClassifier()\n",
    "]\n",
    "\n",
    "X = df.values\n",
    "scaler = StandardScaler()\n",
    "X = scaler.fit_transform(X)\n",
    "y = iron_elements\n",
    "X_train, X_test, y_train, y_test = train_test_split(X, y, test_size=.4, random_state=42)\n",
    "for clf in classifiers:\n",
    "    clf.fit(X_train, y_train)\n",
    "    score = np.mean(cross_val_score(clf, X_test, y_test))\n",
    "    name = clf.__class__.__name__\n",
    "    print(name, score)"
   ]
  },
  {
   "cell_type": "markdown",
   "metadata": {},
   "source": [
    "### Testing Models"
   ]
  },
  {
   "cell_type": "code",
   "execution_count": 11,
   "metadata": {},
   "outputs": [
    {
     "name": "stdout",
     "output_type": "stream",
     "text": [
      "KNeighborsClassifier 0.6666666666666666\n",
      "DecisionTreeClassifier 1.0\n",
      "RandomForestClassifier 0.6666666666666666\n",
      "MLPClassifier 0.3333333333333333\n",
      "AdaBoostClassifier 0.6666666666666666\n",
      "GaussianNB 0.3333333333333333\n",
      "SVC 0.6666666666666666\n",
      "GradientBoostingClassifier 1.0\n"
     ]
    }
   ],
   "source": [
    "filenames = [\"NickelSpatula_HRD10591_16-33-32-126.txt\",\n",
    "            \"Zn(NO3)2Standard.Agarose3_.GreenCap.LampEnergy5.5.E.O_HRD10591_15-02-32-768.txt\",\n",
    "            \"UnknownNail75mm.07152019.QswitchSynchronous.EN10.5scans.P1_HRD10591_15-21-15-324.txt\"]\n",
    "\n",
    "\n",
    "test_states_of_matter = []\n",
    "test_dfs = []\n",
    "test_elements = []\n",
    "\n",
    "for file in filenames:\n",
    "    test_states_of_matter.append(get_element_info(\"All Data/\" + file)[0])\n",
    "    test_elements.append(get_element_info(\"All Data/\" + file)[1])\n",
    "    test_dfs.append(get_data(\"All Data/\" + file))\n",
    "    #print(get_data(\"All Data/\" + file).head(1).values)\n",
    "\n",
    "test_df = pd.concat(test_dfs, axis=1).transpose()\n",
    "#test_df[\"State of Matter\"] = states_of_matter\n",
    "\n",
    "test_data = test_df.values\n",
    "scaler = StandardScaler()\n",
    "test_data = scaler.fit_transform(test_data)\n",
    "\n",
    "for clf in classifiers:\n",
    "    name = clf.__class__.__name__\n",
    "    print(name, clf.score(test_data, test_elements))"
   ]
  },
  {
   "cell_type": "markdown",
   "metadata": {},
   "source": [
    "### Fine tune RandomForestClassifier"
   ]
  }
 ],
 "metadata": {
  "kernelspec": {
   "display_name": "Python 3",
   "language": "python",
   "name": "python3"
  },
  "language_info": {
   "codemirror_mode": {
    "name": "ipython",
    "version": 3
   },
   "file_extension": ".py",
   "mimetype": "text/x-python",
   "name": "python",
   "nbconvert_exporter": "python",
   "pygments_lexer": "ipython3",
   "version": "3.6.5"
  }
 },
 "nbformat": 4,
 "nbformat_minor": 2
}
